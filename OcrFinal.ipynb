{
 "cells": [
  {
   "cell_type": "code",
   "execution_count": null,
   "metadata": {},
   "outputs": [],
   "source": [
    "import cv2 \n",
    "import os\n",
    "cam = cv2.VideoCapture(\"D:\\\\Untitled.MOV\") \n",
    "  \n",
    "try: \n",
    "      \n",
    "    \n",
    "    if not os.path.exists('FRAMES'): \n",
    "        os.makedirs('FRAMES') \n",
    "  \n",
    "\n",
    "except OSError: \n",
    "    print ('Error: Creating directory of data') \n",
    "currentframe = 0\n",
    "  \n",
    "while(True): \n",
    "      \n",
    "    \n",
    "    ret,frame = cam.read() \n",
    "  \n",
    "    if ret: \n",
    "        \n",
    "        name = './FRAMES/frame' + str(currentframe) + '.jpg'\n",
    "        print ('Creating...' + name) \n",
    "  \n",
    "        \n",
    "        cv2.imwrite(name, frame) \n",
    "  \n",
    "       \n",
    "        currentframe += 1\n",
    "    else: \n",
    "        break\n",
    "cam.release() \n",
    "cv2.destroyAllWindows() "
   ]
  },
  {
   "cell_type": "code",
   "execution_count": null,
   "metadata": {},
   "outputs": [],
   "source": [
    "import cv2 \n",
    "import os\n",
    "from PIL import Image\n",
    "import glob"
   ]
  },
  {
   "cell_type": "code",
   "execution_count": null,
   "metadata": {},
   "outputs": [],
   "source": [
    "path1 = \"D:\\\\FRAMES\"\n",
    "path2 = \"D:\\\\Final Frames\"\n",
    "path3= \"D:\\\\GrayImages\"\n",
    "listings2 = os.listdir(path2)\n",
    "x= 5\n",
    "from PIL import Image\n",
    "import os.path, sys\n",
    "\n",
    "listing = os.listdir(path1)  \n",
    "path1 = \"D:\\\\FRAMES\"\n",
    "def crop():\n",
    "    for item in listing:\n",
    "        fullpath = os.path.join(path1,item) \n",
    "        newpath = os.path.join(path2, item)\n",
    "        if os.path.isfile(fullpath):\n",
    "            im = Image.open(fullpath)\n",
    "           \n",
    "            ##e = os.path(path2)\n",
    "            imCrop = im.crop((0, 940, 1920, 1080))\n",
    "            imCrop.save(newpath  , \"BMP\", quality=100)\n",
    "            \n",
    "            \n",
    "\n",
    "\n",
    "crop()"
   ]
  },
  {
   "cell_type": "code",
   "execution_count": null,
   "metadata": {},
   "outputs": [],
   "source": [
    "from PIL import Image\n",
    "import pytesseract\n",
    "import os\n",
    "im = \"D://data//frame0Cropped.bmp\"\n",
    "frmes = \"D:\\\\Final Frames\"\n",
    "overframes = \"D:\\\\GrayImages\"\n",
    "listings = os.listdir(frmes)\n",
    "listings2 = os.listdir(overframes)\n",
    "count = 0\n",
    "f1 = open(\"D:\\Text\\MAIN TEXT.txt\", \"w\")\n",
    "for item in listings:\n",
    "    fullpath = os.path.join(frmes, item)\n",
    "    fullpath2 = os.path.join(overframes, item)\n",
    "    count += 1\n",
    "    im1= Image.open(fullpath)\n",
    "    if os.path.isfile(fullpath):\n",
    "        s = str(count)\n",
    "        text = pytesseract.image_to_string(im1, lang = 'eng')\n",
    "        f1.write(s)\n",
    "        f1.write(\"\\n\")\n",
    "        f1.writelines(text)\n",
    "        f1.write(\"\\n\")\n"
   ]
  },
  {
   "cell_type": "code",
   "execution_count": null,
   "metadata": {},
   "outputs": [],
   "source": []
  }
 ],
 "metadata": {
  "kernelspec": {
   "display_name": "Python 3",
   "language": "python",
   "name": "python3"
  },
  "language_info": {
   "codemirror_mode": {
    "name": "ipython",
    "version": 3
   },
   "file_extension": ".py",
   "mimetype": "text/x-python",
   "name": "python",
   "nbconvert_exporter": "python",
   "pygments_lexer": "ipython3",
   "version": "3.7.3"
  }
 },
 "nbformat": 4,
 "nbformat_minor": 2
}
